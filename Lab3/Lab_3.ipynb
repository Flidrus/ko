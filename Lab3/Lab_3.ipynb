{
 "cells": [
  {
   "cell_type": "code",
   "execution_count": 1,
   "id": "0c520a9a-1d7d-483a-9395-c5fb594d0daa",
   "metadata": {},
   "outputs": [
    {
     "name": "stdout",
     "output_type": "stream",
     "text": [
      "          X          Y\n",
      "0  0.000000  18.058212\n",
      "1  1.337793   5.347568\n",
      "2  2.675585  -1.022144\n",
      "3  4.013378  -2.337524\n",
      "4  5.351171  -4.702728\n"
     ]
    }
   ],
   "source": [
    "import numpy as np\n",
    "import pandas as pd\n",
    "\n",
    "def generate_dataset(samples, x_range, y_range, noise_level):\n",
    "    # Генеруємо рівномірно розподілені значення для X\n",
    "    X = np.linspace(x_range[0], x_range[1], samples)\n",
    "    \n",
    "    # Створюємо лінійну залежність для Y\n",
    "    Y_pred = np.linspace(y_range[0], y_range[1], samples)\n",
    "    \n",
    "    # Додаємо випадковий шум до Y\n",
    "    noise = (np.random.random(samples) - 0.5) * noise_level\n",
    "    Y = Y_pred + noise\n",
    "    \n",
    "    # Повертаємо DataFrame з результатом\n",
    "    return pd.DataFrame({\"X\": X, \"Y\": Y})\n",
    "\n",
    "# Виклик функції для генерації набору даних\n",
    "dataset = generate_dataset(300, (0, 400), (10, 500), 50)\n",
    "\n",
    "# Перегляд перших рядків\n",
    "print(dataset.head())"
   ]
  },
  {
   "cell_type": "code",
   "execution_count": 3,
   "id": "3d318d27-3400-4f1c-a9d9-96140bcbf5dc",
   "metadata": {},
   "outputs": [
    {
     "name": "stdout",
     "output_type": "stream",
     "text": [
      "   ID                              Movie      Year                     Genre  \\\n",
      "0   0                           Eternals     -2021    Action,Adventure,Drama   \n",
      "1   1                               Loki  (2021– )  Action,Adventure,Fantasy   \n",
      "2   2  The Falcon and the Winter Soldier     -2021    Action,Adventure,Drama   \n",
      "3   3                        WandaVision     -2021       Action,Comedy,Drama   \n",
      "4   4            Spider-Man: No Way Home     -2021   Action,Adventure,Sci-Fi   \n",
      "\n",
      "   RunTime                                        Description  IMDB_Score  \n",
      "0        0  The saga of the Eternals, a race of immortal b...         0.0  \n",
      "1        0      A new Marvel chapter with Loki at its center.         0.0  \n",
      "2   50 min  Following the events of 'Avengers: Endgame,' S...         7.5  \n",
      "3  350 min  Blends the style of classic sitcoms with the M...         8.1  \n",
      "4        0       A continuation of Spider-Man: Far From Home.         0.0  \n"
     ]
    }
   ],
   "source": [
    "import pandas as pd\n",
    "import zipfile\n",
    "\n",
    "# Вказуємо повний шлях до архіву\n",
    "zip_path = r\"C:\\Users\\gomel\\Downloads\\archive.zip\"\n",
    "\n",
    "# Відкриваємо архів та зчитуємо CSV файл\n",
    "with zipfile.ZipFile(zip_path, 'r') as z:\n",
    "    with z.open(\"Marvel Vs DC NEW.csv\") as f:\n",
    "        data = pd.read_csv(f)\n",
    "\n",
    "# Переглядаємо перші кілька рядків\n",
    "print(data.head())"
   ]
  },
  {
   "cell_type": "code",
   "execution_count": 6,
   "id": "f585714b-9507-4b8e-b6c5-a420a673a78f",
   "metadata": {},
   "outputs": [
    {
     "name": "stdout",
     "output_type": "stream",
     "text": [
      "    feature     target\n",
      "0  3.745401  10.950550\n",
      "1  9.507143  24.968850\n",
      "2  7.319939  19.891609\n",
      "3  5.986585  14.478893\n",
      "4  1.560186   5.180794\n"
     ]
    }
   ],
   "source": [
    "import numpy as np\n",
    "import pandas as pd\n",
    "\n",
    "# Встановлення випадкового seed для відтворюваності\n",
    "np.random.seed(42)\n",
    "\n",
    "# Генерація випадкових даних\n",
    "n_samples = 100\n",
    "X = np.random.rand(n_samples, 1) * 10  # 100 зразків, значення від 0 до 10\n",
    "noise = np.random.randn(n_samples, 1)  # Додавання шуму\n",
    "\n",
    "# Визначення цільової змінної з певною залежністю\n",
    "y = 2.5 * X + 1.5 + noise\n",
    "\n",
    "# Створення DataFrame\n",
    "df = pd.DataFrame(np.hstack((X, y)), columns=['feature', 'target'])\n",
    "\n",
    "# Виведення перших 5 рядків\n",
    "print(df.head())"
   ]
  },
  {
   "cell_type": "code",
   "execution_count": 7,
   "id": "b2782459-7277-47cc-84d6-7cc9a1826f28",
   "metadata": {},
   "outputs": [
    {
     "name": "stdout",
     "output_type": "stream",
     "text": [
      "Mean Squared Error (MSE): 0.6536995137170043\n",
      "R-squared: 0.9889180712579216\n"
     ]
    },
    {
     "data": {
      "image/png": "[encoded data removed]",
      "text/plain": [
       "<Figure size 640x480 with 1 Axes>"
      ]
     },
     "metadata": {},
     "output_type": "display_data"
    }
   ],
   "source": [
    "from sklearn.linear_model import LinearRegression\n",
    "from sklearn.model_selection import train_test_split\n",
    "from sklearn.metrics import mean_squared_error, r2_score\n",
    "\n",
    "# Розділимо дані на тренувальний та тестовий набори\n",
    "X_train, X_test, y_train, y_test = train_test_split(X, y, test_size=0.2, random_state=42)\n",
    "\n",
    "# Створюємо модель лінійної регресії\n",
    "model = LinearRegression()\n",
    "model.fit(X_train, y_train)\n",
    "\n",
    "# Прогнозування\n",
    "y_pred = model.predict(X_test)\n",
    "\n",
    "# Оцінка моделі\n",
    "mse = mean_squared_error(y_test, y_pred)\n",
    "r2 = r2_score(y_test, y_pred)\n",
    "\n",
    "print(f\"Mean Squared Error (MSE): {mse}\")\n",
    "print(f\"R-squared: {r2}\")\n",
    "\n",
    "# Візуалізація результатів\n",
    "plt.scatter(X_test, y_test, color='blue', label='Actual')\n",
    "plt.plot(X_test, y_pred, color='red', label='Predicted')\n",
    "plt.xlabel('X')\n",
    "plt.ylabel('y')\n",
    "plt.legend()\n",
    "plt.title('Моделювання лінійної регресії')\n",
    "plt.show()"
   ]
  },
  {
   "cell_type": "code",
   "execution_count": null,
   "id": "d1b04f5c-7bbb-417a-bf17-d93b748e8b86",
   "metadata": {},
   "outputs": [],
   "source": []
  }
 ],
 "metadata": {
  "kernelspec": {
   "display_name": "Python 3 (ipykernel)",
   "language": "python",
   "name": "python3"
  },
  "language_info": {
   "codemirror_mode": {
    "name": "ipython",
    "version": 3
   },
   "file_extension": ".py",
   "mimetype": "text/x-python",
   "name": "python",
   "nbconvert_exporter": "python",
   "pygments_lexer": "ipython3",
   "version": "3.12.6"
  }
 },
 "nbformat": 4,
 "nbformat_minor": 5
}
